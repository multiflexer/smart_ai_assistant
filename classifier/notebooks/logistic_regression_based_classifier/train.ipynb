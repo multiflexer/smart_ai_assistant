{
 "cells": [
  {
   "cell_type": "code",
   "execution_count": 1,
   "metadata": {},
   "outputs": [],
   "source": [
    "import pandas as pd\n",
    "\n",
    "from sklearn.linear_model import LogisticRegression\n",
    "\n",
    "from sklearn.model_selection import train_test_split\n",
    "from sklearn.feature_extraction.text import TfidfTransformer\n",
    "from sklearn.feature_extraction.text import CountVectorizer\n",
    "\n",
    "from sklearn.metrics import roc_auc_score\n",
    "from sklearn.metrics import accuracy_score\n",
    "from sklearn.metrics import precision_recall_fscore_support\n",
    "\n",
    "from sklearn.metrics import classification_report"
   ]
  },
  {
   "cell_type": "code",
   "execution_count": 2,
   "metadata": {},
   "outputs": [],
   "source": [
    "def display_classification_report(model,metric):\n",
    "    y_train_pred_proba = model.predict_proba(X_train)\n",
    "    y_test_pred_proba = model.predict_proba(X_test)\n",
    "    roc_auc_score_train = round(roc_auc_score(y_train, y_train_pred_proba,average='weighted',multi_class='ovr'),2)\n",
    "    roc_auc_score_test = round(roc_auc_score(y_test, y_test_pred_proba,average='weighted',multi_class='ovr'),2)\n",
    "    print(\"ROC AUC Score Train:\", roc_auc_score_train)\n",
    "    print(\"ROC AUC Score Test:\", roc_auc_score_test)\n",
    "    metric.append(roc_auc_score_train)\n",
    "    metric.append(roc_auc_score_test)\n",
    "\n",
    "    y_train_pred = model.predict(X_train)\n",
    "    y_test_pred = model.predict(X_test)\n",
    "  \n",
    "    precision_train,recall_train,fscore_train,support_train=precision_recall_fscore_support(y_train,y_train_pred,average='weighted')\n",
    "    precision_test,recall_test,fscore_test,support_test=precision_recall_fscore_support(y_test,y_test_pred,average='weighted')\n",
    "    \n",
    "    acc_score_train = round(accuracy_score(y_train,y_train_pred),2)\n",
    "    acc_score_test = round(accuracy_score(y_test,y_test_pred),2)\n",
    "    \n",
    "    metric.append(acc_score_train)\n",
    "    metric.append(acc_score_test)\n",
    "    metric.append(round(precision_train,2))\n",
    "    metric.append(round(precision_test,2))\n",
    "    metric.append(round(recall_train,2))\n",
    "    metric.append(round(recall_test,2))\n",
    "    metric.append(round(fscore_train,2))\n",
    "    metric.append(round(fscore_test,2))\n",
    "    \n",
    "    print('Train Accuracy :',acc_score_train)\n",
    "    print('Test Accuracy :',acc_score_test)\n",
    "        \n",
    "    model_report_train = classification_report(y_train,y_train_pred)\n",
    "    model_report_test = classification_report(y_test,y_test_pred)\n",
    "    \n",
    "    print('Classification Report for Train:\\n',model_report_train)\n",
    "    print('Classification Report for Test:\\n',model_report_test)"
   ]
  },
  {
   "cell_type": "code",
   "execution_count": 4,
   "metadata": {},
   "outputs": [],
   "source": [
    "training_data = pd.read_csv('training_data.csv')[['complaint_text', 'Topic']]\n",
    "training_data['complaint_text'] = training_data['complaint_text'].astype(str)\n",
    "\n",
    "X = training_data.complaint_text\n",
    "y = training_data.Topic\n",
    "\n",
    "count_vect = CountVectorizer()\n",
    "X_vect = count_vect.fit_transform(X)\n",
    "\n",
    "tfidf_transformer = TfidfTransformer()\n",
    "X_tfidf = tfidf_transformer.fit_transform(X_vect)\n",
    "\n",
    "X_train, X_test, y_train, y_test = train_test_split(X_tfidf, y, test_size=0.25, random_state=40, stratify=y)"
   ]
  },
  {
   "cell_type": "code",
   "execution_count": 5,
   "metadata": {},
   "outputs": [
    {
     "name": "stdout",
     "output_type": "stream",
     "text": [
      "ROC AUC Score Train: 1.0\n",
      "ROC AUC Score Test: 0.99\n",
      "Train Accuracy : 0.95\n",
      "Test Accuracy : 0.9\n",
      "Classification Report for Train:\n",
      "               precision    recall  f1-score   support\n",
      "\n",
      "           0       0.93      0.97      0.95      4331\n",
      "           1       0.95      0.94      0.95      3109\n",
      "           2       0.95      0.98      0.96      3801\n",
      "           3       0.95      0.88      0.92      1633\n",
      "           4       0.94      0.92      0.93      2930\n",
      "\n",
      "    accuracy                           0.95     15804\n",
      "   macro avg       0.95      0.94      0.94     15804\n",
      "weighted avg       0.95      0.95      0.95     15804\n",
      "\n",
      "Classification Report for Test:\n",
      "               precision    recall  f1-score   support\n",
      "\n",
      "           0       0.89      0.93      0.91      1444\n",
      "           1       0.90      0.88      0.89      1037\n",
      "           2       0.90      0.95      0.93      1267\n",
      "           3       0.92      0.82      0.87       544\n",
      "           4       0.90      0.86      0.88       976\n",
      "\n",
      "    accuracy                           0.90      5268\n",
      "   macro avg       0.90      0.89      0.90      5268\n",
      "weighted avg       0.90      0.90      0.90      5268\n",
      "\n"
     ]
    }
   ],
   "source": [
    "# Logistic Regression Classification\n",
    "log_reg = LogisticRegression(random_state=40,solver='liblinear')\n",
    "# fit model\n",
    "log_reg.fit(X_train,y_train)\n",
    "# display classification report\n",
    "metric2=[]\n",
    "display_classification_report(log_reg,metric2)"
   ]
  }
 ],
 "metadata": {
  "kernelspec": {
   "display_name": "Python 3",
   "language": "python",
   "name": "python3"
  },
  "language_info": {
   "codemirror_mode": {
    "name": "ipython",
    "version": 3
   },
   "file_extension": ".py",
   "mimetype": "text/x-python",
   "name": "python",
   "nbconvert_exporter": "python",
   "pygments_lexer": "ipython3",
   "version": "3.9.13"
  },
  "orig_nbformat": 4
 },
 "nbformat": 4,
 "nbformat_minor": 2
}
